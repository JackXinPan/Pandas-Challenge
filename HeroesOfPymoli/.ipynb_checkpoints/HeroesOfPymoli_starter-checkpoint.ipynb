{
 "cells": [
  {
   "cell_type": "code",
   "execution_count": null,
   "metadata": {},
   "outputs": [],
   "source": [
    "# Dependencies and Setup\n",
    "import pandas as pd\n",
    "\n",
    "# File to Load (Remember to Change These)\n",
    "file_to_load = \"Resources/purchase_data.csv\"\n",
    "\n",
    "# Read Purchasing File and store into Pandas data frame\n",
    "purchase_data = pd.read_csv(file_to_load)"
   ]
  },
  {
   "cell_type": "markdown",
   "metadata": {},
   "source": [
    "# Player Count"
   ]
  },
  {
   "cell_type": "code",
   "execution_count": null,
   "metadata": {},
   "outputs": [],
   "source": [
    "#series for Player Count\n",
    "player_count = len(purchase_data[\"SN\"].unique())\n",
    "player_count = pd.Series(player_count)\n"
   ]
  },
  {
   "cell_type": "code",
   "execution_count": null,
   "metadata": {},
   "outputs": [],
   "source": [
    "#creating display for Player Count (converting to dataframe)\n",
    "player_count_df = pd.DataFrame({\n",
    "    \"Total Players\": player_count\n",
    "})"
   ]
  },
  {
   "cell_type": "code",
   "execution_count": null,
   "metadata": {},
   "outputs": [],
   "source": [
    "#final output\n",
    "player_count_df"
   ]
  },
  {
   "cell_type": "markdown",
   "metadata": {},
   "source": [
    "## Purchasing Analysis (Total)"
   ]
  },
  {
   "cell_type": "code",
   "execution_count": null,
   "metadata": {
    "scrolled": true
   },
   "outputs": [],
   "source": [
    "#display for summary data\n",
    "\n",
    "summary_data = pd.DataFrame(\n",
    "    {\"Number of Unique Items\": len(purchase_data[\"Item ID\"].unique()),\n",
    "    \"Average Price\": purchase_data[\"Price\"].sum() / len(purchase_data),\n",
    "    \"Number of Purchases\": len(purchase_data),\n",
    "    \"Total Revenue\": [purchase_data[\"Price\"].sum()]})\n",
    "\n"
   ]
  },
  {
   "cell_type": "code",
   "execution_count": null,
   "metadata": {},
   "outputs": [],
   "source": [
    "#Cleaning values\n",
    "summary_data[\"Average Price\"] = summary_data[\n",
    "    \"Average Price\"].astype(float).map(\"${:,.2f}\".format)\n",
    "summary_data[\"Total Revenue\"] = summary_data[\n",
    "    \"Total Revenue\"].astype(float).map(\"${:,.2f}\".format)"
   ]
  },
  {
   "cell_type": "code",
   "execution_count": null,
   "metadata": {},
   "outputs": [],
   "source": [
    "#final output\n",
    "summary_data"
   ]
  },
  {
   "cell_type": "markdown",
   "metadata": {},
   "source": [
    "## Gender Demographics"
   ]
  },
  {
   "cell_type": "code",
   "execution_count": null,
   "metadata": {},
   "outputs": [],
   "source": [
    "#converting purchase_data to lose some data from repeat customers\n",
    "no_dup = purchase_data.drop_duplicates(subset = \"SN\")"
   ]
  },
  {
   "cell_type": "code",
   "execution_count": null,
   "metadata": {
    "scrolled": false
   },
   "outputs": [],
   "source": [
    "#calculating gender count\n",
    "males = len(no_dup.loc[purchase_data[\"Gender\"] == \"Male\", :])\n",
    "females = len(no_dup.loc[purchase_data[\"Gender\"] == \"Female\", :])\n",
    "others = len(no_dup.loc[purchase_data[\"Gender\"] == \"Other / Non-Disclosed\", :])\n"
   ]
  },
  {
   "cell_type": "code",
   "execution_count": null,
   "metadata": {
    "scrolled": false
   },
   "outputs": [],
   "source": [
    "#series of count of each gender\n",
    "total_count = [males, females, others]\n",
    "total_count = pd.Series(total_count)\n"
   ]
  },
  {
   "cell_type": "code",
   "execution_count": null,
   "metadata": {
    "scrolled": true
   },
   "outputs": [],
   "source": [
    "#calculating gender ratios\n",
    "percent_male = 100 * males / player_count\n",
    "percent_female = 100 * females / player_count\n",
    "percent_other = 100 * others / player_count\n"
   ]
  },
  {
   "cell_type": "code",
   "execution_count": null,
   "metadata": {
    "scrolled": true
   },
   "outputs": [],
   "source": [
    "#series of gender ratios\n",
    "percent_player = [percent_male, percent_female, percent_other]\n",
    "percent_player = pd.Series(percent_player)\n"
   ]
  },
  {
   "cell_type": "code",
   "execution_count": null,
   "metadata": {},
   "outputs": [],
   "source": [
    "#series for each gender\n",
    "genders = [\"Male\", \"Female\", 'Other / Non-Disclosed']\n",
    "genders = pd.Series(genders)\n"
   ]
  },
  {
   "cell_type": "code",
   "execution_count": null,
   "metadata": {
    "scrolled": false
   },
   "outputs": [],
   "source": [
    "#summarising previous Series into one\n",
    "gender_summary = pd.DataFrame(\n",
    "    {\"Total Count\": total_count,\n",
    "    \"Percentage of Players\": percent_player,\n",
    "    \"\":genders})\n",
    "\n"
   ]
  },
  {
   "cell_type": "code",
   "execution_count": null,
   "metadata": {},
   "outputs": [],
   "source": [
    "#cleaning data\n",
    "gender_summary[\"Percentage of Players\"] = gender_summary[\n",
    "    \"Percentage of Players\"].astype(float).map(\"{:,.2f}%\".format)\n",
    "gender_summary = gender_summary.set_index(\"\")"
   ]
  },
  {
   "cell_type": "code",
   "execution_count": null,
   "metadata": {},
   "outputs": [],
   "source": [
    "#final output\n",
    "gender_summary"
   ]
  },
  {
   "cell_type": "markdown",
   "metadata": {},
   "source": [
    "\n",
    "## Purchasing Analysis (Gender)"
   ]
  },
  {
   "cell_type": "code",
   "execution_count": null,
   "metadata": {
    "scrolled": true
   },
   "outputs": [],
   "source": [
    "# Segmenting purchase_data via gender\n",
    "female_data = purchase_data.loc[purchase_data[\"Gender\"] == \"Female\", :]\n",
    "male_data = purchase_data.loc[purchase_data[\"Gender\"] == \"Male\", :]\n",
    "other_data = purchase_data.loc[purchase_data[\"Gender\"] == \"Other / Non-Disclosed\", :]"
   ]
  },
  {
   "cell_type": "code",
   "execution_count": null,
   "metadata": {
    "scrolled": false
   },
   "outputs": [],
   "source": [
    "#calculating total purchases based on gender\n",
    "purchase_female = len(female_data)\n",
    "purchase_male = len(male_data)\n",
    "purchase_other = len(other_data)"
   ]
  },
  {
   "cell_type": "code",
   "execution_count": null,
   "metadata": {
    "scrolled": false
   },
   "outputs": [],
   "source": [
    "#Series of purchase data based on gender\n",
    "purchase_count = [purchase_female, purchase_male, purchase_other]\n",
    "purchase_count = pd.Series(purchase_count)\n"
   ]
  },
  {
   "cell_type": "code",
   "execution_count": null,
   "metadata": {},
   "outputs": [],
   "source": [
    "#calculating average purchase value based on gender\n",
    "avg_female = female_data[\"Price\"].mean()\n",
    "avg_male = male_data[\"Price\"].mean()\n",
    "avg_other = other_data[\"Price\"].mean()"
   ]
  },
  {
   "cell_type": "code",
   "execution_count": null,
   "metadata": {
    "scrolled": true
   },
   "outputs": [],
   "source": [
    "#Convert to series\n",
    "avg_purchase =[avg_female, avg_male, avg_other]\n",
    "avg_purchase = pd.Series(avg_purchase)\n"
   ]
  },
  {
   "cell_type": "code",
   "execution_count": null,
   "metadata": {
    "scrolled": true
   },
   "outputs": [],
   "source": [
    "#calculations for total purchase value\n",
    "total_female = female_data[\"Price\"].sum()\n",
    "total_male = male_data[\"Price\"].sum()\n",
    "total_other = other_data[\"Price\"].sum()"
   ]
  },
  {
   "cell_type": "code",
   "execution_count": null,
   "metadata": {
    "scrolled": false
   },
   "outputs": [],
   "source": [
    "#convert to series\n",
    "total_purchase = [total_female, total_male, total_other]\n",
    "total_purchase = pd.Series(total_purchase)\n"
   ]
  },
  {
   "cell_type": "code",
   "execution_count": null,
   "metadata": {},
   "outputs": [],
   "source": [
    "#calculations for avg purchase price per person based on gender\n",
    "avg_per_female = total_female / females\n",
    "avg_per_male = total_male / males\n",
    "avg_per_other = total_other / others"
   ]
  },
  {
   "cell_type": "code",
   "execution_count": null,
   "metadata": {
    "scrolled": true
   },
   "outputs": [],
   "source": [
    "#convert to series\n",
    "avg_per_total = [avg_per_female, avg_per_male, avg_per_other]\n",
    "avg_per_total = pd.Series(avg_per_total)    \n"
   ]
  },
  {
   "cell_type": "code",
   "execution_count": null,
   "metadata": {},
   "outputs": [],
   "source": [
    "#new gender list so female is first\n",
    "genders = [\"Female\", \"Male\", 'Other / Non-Disclosed']\n",
    "genders = pd.Series(genders)"
   ]
  },
  {
   "cell_type": "code",
   "execution_count": null,
   "metadata": {
    "scrolled": true
   },
   "outputs": [],
   "source": [
    "#displaying data\n",
    "gender_purchase_summary =  pd.DataFrame(\n",
    "            {\"Purchase Count\": purchase_count,\n",
    "            \"Average Purchase Price\": avg_purchase,\n",
    "            \"Total Purchase Value\": total_purchase,\n",
    "            \"Avg Total Purchase per Person\": avg_per_total,\n",
    "            \"Gender\": genders})\n"
   ]
  },
  {
   "cell_type": "code",
   "execution_count": null,
   "metadata": {},
   "outputs": [],
   "source": [
    "#cleaning data\n",
    "gender_purchase_summary[\"Average Purchase Price\"] = gender_purchase_summary[\n",
    "    \"Average Purchase Price\"].astype(float).map(\"${:,.2f}\".format)\n",
    "gender_purchase_summary[\"Total Purchase Value\"] = gender_purchase_summary[\n",
    "    \"Total Purchase Value\"].astype(float).map(\"${:,.2f}\".format)\n",
    "gender_purchase_summary[\"Avg Total Purchase per Person\"] = gender_purchase_summary[\n",
    "    \"Avg Total Purchase per Person\"].astype(float).map(\"${:,.2f}\".format)\n",
    "gender_purchase_summary = gender_purchase_summary.set_index(\"Gender\")"
   ]
  },
  {
   "cell_type": "code",
   "execution_count": null,
   "metadata": {},
   "outputs": [],
   "source": [
    "#final output\n",
    "gender_purchase_summary"
   ]
  },
  {
   "cell_type": "markdown",
   "metadata": {},
   "source": [
    "## Age Demographics"
   ]
  },
  {
   "cell_type": "code",
   "execution_count": null,
   "metadata": {},
   "outputs": [],
   "source": [
    "#bin for ages\n",
    "bins = [0,9,14,19,24,29,34,39,1000]\n",
    "#names for the bins\n",
    "age_groups = [\"<10\", \"10-14\", \"15-19\", \"20-24\", \"25-29\", \"30-34\", \"35-39\", \"40+\"]\n"
   ]
  },
  {
   "cell_type": "code",
   "execution_count": null,
   "metadata": {
    "scrolled": false
   },
   "outputs": [],
   "source": [
    "#using bins to create age demographic data\n",
    "no_dup[\"Age Demographic\"] = pd.cut(no_dup[\n",
    "    \"Age\"], bins, labels=age_groups, include_lowest=True)\n"
   ]
  },
  {
   "cell_type": "code",
   "execution_count": null,
   "metadata": {
    "scrolled": true
   },
   "outputs": [],
   "source": [
    "#calculating count of people within each age demographic\n",
    "demo_count = no_dup[\"Age Demographic\"].value_counts()\n",
    "demo_count = demo_count.sort_index()\n"
   ]
  },
  {
   "cell_type": "code",
   "execution_count": null,
   "metadata": {},
   "outputs": [],
   "source": [
    "#conditional to age demographic proportions\n",
    "percent_age = []\n",
    "for agecount in demo_count: \n",
    "    agecount_percent = 100 * agecount / player_count\n",
    "    percent_age.append(agecount_percent)\n"
   ]
  },
  {
   "cell_type": "code",
   "execution_count": null,
   "metadata": {
    "scrolled": false
   },
   "outputs": [],
   "source": [
    "#display data\n",
    "age_demographic_summary = pd.DataFrame({\n",
    "    \"Total Count\": demo_count,\n",
    "    \"Percentage of Players\": percent_age,    \n",
    "})\n"
   ]
  },
  {
   "cell_type": "code",
   "execution_count": null,
   "metadata": {},
   "outputs": [],
   "source": [
    "#cleaning data\n",
    "age_demographic_summary[\"Percentage of Players\"] = age_demographic_summary[\n",
    "    \"Percentage of Players\"].astype(float).map(\"{:,.2f}%\".format)\n"
   ]
  },
  {
   "cell_type": "code",
   "execution_count": null,
   "metadata": {},
   "outputs": [],
   "source": [
    "#final output\n",
    "age_demographic_summary"
   ]
  },
  {
   "cell_type": "markdown",
   "metadata": {},
   "source": [
    "## Purchasing Analysis (Age)"
   ]
  },
  {
   "cell_type": "code",
   "execution_count": null,
   "metadata": {},
   "outputs": [],
   "source": [
    "#bin purchase_data\n",
    "purchase_data[\"Age Demographic\"] = pd.cut(purchase_data[\n",
    "    \"Age\"], bins, labels=age_groups, include_lowest=True)\n"
   ]
  },
  {
   "cell_type": "code",
   "execution_count": null,
   "metadata": {
    "scrolled": true
   },
   "outputs": [],
   "source": [
    "#calculating purchases based on age demographics\n",
    "demo_purchase_count = purchase_data[\"Age Demographic\"].value_counts()\n",
    "demo_purchase_count = demo_purchase_count.sort_index()\n"
   ]
  },
  {
   "cell_type": "code",
   "execution_count": null,
   "metadata": {},
   "outputs": [],
   "source": [
    "# conditional to calcuate average purchase price based on age demographics\n",
    "average_purchase_age = []\n",
    "\n",
    "for agegroup in age_groups: \n",
    "    age_group_data = purchase_data.loc[purchase_data[\"Age Demographic\"] == agegroup, :]\n",
    "    avg_price = age_group_data[\"Price\"].sum() / len(age_group_data) \n",
    "    average_purchase_age.append(avg_price)\n",
    "    \n",
    "\n",
    "\n"
   ]
  },
  {
   "cell_type": "code",
   "execution_count": null,
   "metadata": {},
   "outputs": [],
   "source": [
    "#conditional to calculate total purchase value based on age demographics\n",
    "total_purchase_age = []\n",
    "\n",
    "for agegroup in age_groups: \n",
    "    age_group_data = purchase_data.loc[purchase_data[\"Age Demographic\"] == agegroup, :]\n",
    "    total_purchase = age_group_data[\"Price\"].sum()\n",
    "    total_purchase_age.append(total_purchase)\n",
    "    \n"
   ]
  },
  {
   "cell_type": "code",
   "execution_count": null,
   "metadata": {
    "scrolled": true
   },
   "outputs": [],
   "source": [
    "#conditional to calculate avg purchase price based on age demographics per person\n",
    "avg_purchase_age_per = []\n",
    "\n",
    "for agegroup in age_groups: \n",
    "    age_group_data = purchase_data.loc[purchase_data[\"Age Demographic\"] == agegroup, :] \n",
    "    total_people = len(no_dup.loc[no_dup[\"Age Demographic\"] == agegroup, :])\n",
    "    avg_price_per = age_group_data[\"Price\"].sum() / total_people\n",
    "    avg_purchase_age_per.append(avg_price_per)\n"
   ]
  },
  {
   "cell_type": "code",
   "execution_count": null,
   "metadata": {
    "scrolled": false
   },
   "outputs": [],
   "source": [
    "#display data\n",
    "\n",
    "purchase_age_summary = pd.DataFrame({\n",
    "    \"Purchase Count\": demo_purchase_count,\n",
    "    \"Average Purchase Price\": average_purchase_age,\n",
    "    \"Total Purchase Value\": total_purchase_age,\n",
    "    \"Avg Total Purchase per Person\": avg_purchase_age_per})"
   ]
  },
  {
   "cell_type": "code",
   "execution_count": null,
   "metadata": {
    "scrolled": true
   },
   "outputs": [],
   "source": [
    "#cleaning data\n",
    "purchase_age_index = purchase_age_summary.index\n",
    "purchase_age_index.name = \"Age Ranges\"\n",
    "\n",
    "purchase_age_summary[\"Average Purchase Price\"] = purchase_age_summary[\n",
    "    \"Average Purchase Price\"].astype(float).map(\"${:.2f}\".format)\n",
    "purchase_age_summary[\"Total Purchase Value\"] = purchase_age_summary[\n",
    "    \"Total Purchase Value\"].astype(float).map(\"${:,.2f}\".format)\n",
    "purchase_age_summary[\"Avg Total Purchase per Person\"] = purchase_age_summary[\n",
    "    \"Avg Total Purchase per Person\"].astype(float).map(\"${:.2f}\".format)\n"
   ]
  },
  {
   "cell_type": "code",
   "execution_count": null,
   "metadata": {},
   "outputs": [],
   "source": [
    "#final output\n",
    "purchase_age_summary"
   ]
  },
  {
   "cell_type": "markdown",
   "metadata": {},
   "source": [
    "## Top Spenders"
   ]
  },
  {
   "cell_type": "code",
   "execution_count": null,
   "metadata": {},
   "outputs": [],
   "source": [
    "#groupby with players\n",
    "groupby_SN = purchase_data.groupby([\"SN\"])"
   ]
  },
  {
   "cell_type": "markdown",
   "metadata": {},
   "source": [
    "#code if you wanted to sort first (but nlargest only gets the specified amount of values, not whole index)\n",
    "top_price = groupby_SN[\"Price\"].sum().nlargest()\n"
   ]
  },
  {
   "cell_type": "code",
   "execution_count": null,
   "metadata": {},
   "outputs": [],
   "source": [
    "#calculating total purchase value of each player\n",
    "top_price = groupby_SN[\"Price\"].sum()\n",
    "\n"
   ]
  },
  {
   "cell_type": "code",
   "execution_count": null,
   "metadata": {
    "scrolled": true
   },
   "outputs": [],
   "source": [
    "#player list for conditional loop\n",
    "top_spenders = list(top_price.index.values)\n"
   ]
  },
  {
   "cell_type": "code",
   "execution_count": null,
   "metadata": {},
   "outputs": [],
   "source": [
    "#conditional to count number of purchases\n",
    "top_purchase_count =[]\n",
    "for spender in top_spenders:\n",
    "    top_data = purchase_data.loc[purchase_data[\"SN\"] == spender, :]\n",
    "    count_data = len(top_data)\n",
    "    top_purchase_count.append(count_data)\n"
   ]
  },
  {
   "cell_type": "code",
   "execution_count": null,
   "metadata": {},
   "outputs": [],
   "source": [
    "#conditional to find average purchase price\n",
    "avg_spender_price =[]\n",
    "for spender in top_spenders:\n",
    "    top_data = purchase_data.loc[purchase_data[\"SN\"] == spender, :]\n",
    "    top_avg_price = top_data[\"Price\"].sum() / len(top_data)\n",
    "    avg_spender_price.append(top_avg_price)\n",
    "\n",
    "    "
   ]
  },
  {
   "cell_type": "code",
   "execution_count": null,
   "metadata": {},
   "outputs": [],
   "source": [
    "#display data\n",
    "top_spender_summary = pd.DataFrame({\n",
    "    \"Purchase Count\": top_purchase_count,\n",
    "    \"Average Purchase Price\": avg_spender_price,\n",
    "    \"Total Purchase Value\": top_price})\n",
    "                               "
   ]
  },
  {
   "cell_type": "code",
   "execution_count": null,
   "metadata": {
    "scrolled": true
   },
   "outputs": [],
   "source": [
    "#cleaning data, sorting in order of biggest spenders\n",
    "top_spender_summary = top_spender_summary.sort_values(by=[\"Total Purchase Value\"], ascending = False)\n",
    "top_spender_summary[\"Average Purchase Price\"] = top_spender_summary[\n",
    "    \"Average Purchase Price\"].astype(float).map(\"${:.2f}\".format)\n",
    "top_spender_summary[\"Total Purchase Value\"] = top_spender_summary[\n",
    "    \"Total Purchase Value\"].astype(float).map(\"${:.2f}\".format)\n"
   ]
  },
  {
   "cell_type": "code",
   "execution_count": null,
   "metadata": {},
   "outputs": [],
   "source": [
    "#final output\n",
    "top_spender_summary.head()"
   ]
  },
  {
   "cell_type": "markdown",
   "metadata": {},
   "source": [
    "## Most Popular Items"
   ]
  },
  {
   "cell_type": "code",
   "execution_count": null,
   "metadata": {},
   "outputs": [],
   "source": [
    "#groupby by item and accompanying ID\n",
    "groupby_ID_name = purchase_data.groupby([\"Item ID\", \"Item Name\"])\n"
   ]
  },
  {
   "cell_type": "code",
   "execution_count": null,
   "metadata": {},
   "outputs": [],
   "source": [
    "#calculation to find purchase count of items\n",
    "popular_item_count = groupby_ID_name[\"Purchase ID\"].count()\n"
   ]
  },
  {
   "cell_type": "code",
   "execution_count": null,
   "metadata": {
    "scrolled": false
   },
   "outputs": [],
   "source": [
    "#done for the sake of a list to use for conditional loops\n",
    "loop_ID = purchase_data.groupby([\"Item ID\"])\n",
    "id_loop = loop_ID[\"Purchase ID\"].count()\n",
    "id_loop = list(id_loop.index.values)"
   ]
  },
  {
   "cell_type": "code",
   "execution_count": null,
   "metadata": {},
   "outputs": [],
   "source": [
    "#conditional for total purchase value for each item\n",
    "total_item_purchase = []\n",
    "\n",
    "for id in id_loop:\n",
    "    id_data = purchase_data.loc[purchase_data[\"Item ID\"] == id, :]\n",
    "    total_value = id_data[\"Price\"].sum()\n",
    "    total_item_purchase.append(total_value)\n"
   ]
  },
  {
   "cell_type": "code",
   "execution_count": null,
   "metadata": {},
   "outputs": [],
   "source": [
    "#conditional to find an item's price\n",
    "item_price = []\n",
    "\n",
    "for id in id_loop:\n",
    "    id_data = purchase_data.loc[purchase_data[\"Item ID\"] == id, :]\n",
    "    avg_value = id_data[\"Price\"].sum() / len(id_data)\n",
    "    item_price.append(avg_value)\n"
   ]
  },
  {
   "cell_type": "code",
   "execution_count": null,
   "metadata": {
    "scrolled": true
   },
   "outputs": [],
   "source": [
    "popular_item_summary = pd.DataFrame({\n",
    "    \"Purchase Count\": popular_item_count,\n",
    "    \"Item Price\": item_price,\n",
    "    \"Total Purchase Value\": total_item_purchase})\n"
   ]
  },
  {
   "cell_type": "code",
   "execution_count": null,
   "metadata": {},
   "outputs": [],
   "source": [
    "#cleaning data\n",
    "popular_item_summary_count = popular_item_summary.sort_values(by=[\"Purchase Count\"], ascending = False)\n",
    "popular_item_summary_count[\"Item Price\"] = popular_item_summary_count[\n",
    "    \"Item Price\"].astype(float).map(\"${:.2f}\".format)\n",
    "popular_item_summary_count[\"Total Purchase Value\"] = popular_item_summary_count[\n",
    "    \"Total Purchase Value\"].astype(float).map(\"${:.2f}\".format)\n"
   ]
  },
  {
   "cell_type": "code",
   "execution_count": null,
   "metadata": {
    "scrolled": true
   },
   "outputs": [],
   "source": [
    "#final output\n",
    "popular_item_summary_count.head()"
   ]
  },
  {
   "cell_type": "markdown",
   "metadata": {},
   "source": [
    "## Most Profitable Items"
   ]
  },
  {
   "cell_type": "code",
   "execution_count": null,
   "metadata": {
    "scrolled": true
   },
   "outputs": [],
   "source": [
    "#Cleaning data such that ordered via Total Purchase Value\n",
    "popular_item_summary_value= popular_item_summary.sort_values(\n",
    "    by=[\"Total Purchase Value\"], ascending = False)\n",
    "popular_item_summary_value[\"Item Price\"] = popular_item_summary_value[\n",
    "    \"Item Price\"].astype(float).map(\"${:.2f}\".format)\n",
    "popular_item_summary_value[\"Total Purchase Value\"] = popular_item_summary_value[\n",
    "    \"Total Purchase Value\"].astype(float).map(\"${:.2f}\".format)\n"
   ]
  },
  {
   "cell_type": "code",
   "execution_count": null,
   "metadata": {},
   "outputs": [],
   "source": [
    "#final output\n",
    "popular_item_summary_value.head()"
   ]
  }
 ],
 "metadata": {
  "anaconda-cloud": {},
  "celltoolbar": "Tags",
  "kernel_info": {
   "name": "python3"
  },
  "kernelspec": {
   "display_name": "Python 3",
   "language": "python",
   "name": "python3"
  },
  "language_info": {
   "codemirror_mode": {
    "name": "ipython",
    "version": 3
   },
   "file_extension": ".py",
   "mimetype": "text/x-python",
   "name": "python",
   "nbconvert_exporter": "python",
   "pygments_lexer": "ipython3",
   "version": "3.6.10"
  },
  "latex_envs": {
   "LaTeX_envs_menu_present": true,
   "autoclose": false,
   "autocomplete": true,
   "bibliofile": "biblio.bib",
   "cite_by": "apalike",
   "current_citInitial": 1,
   "eqLabelWithNumbers": true,
   "eqNumInitial": 1,
   "hotkeys": {
    "equation": "Ctrl-E",
    "itemize": "Ctrl-I"
   },
   "labels_anchors": false,
   "latex_user_defs": false,
   "report_style_numbering": false,
   "user_envs_cfg": false
  },
  "nteract": {
   "version": "0.2.0"
  }
 },
 "nbformat": 4,
 "nbformat_minor": 2
}
